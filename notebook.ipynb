{
 "cells": [
  {
   "cell_type": "code",
   "execution_count": 1,
   "metadata": {},
   "outputs": [
    {
     "name": "stderr",
     "output_type": "stream",
     "text": [
      "/home/jlm/.local/lib/python3.10/site-packages/matplotlib/projections/__init__.py:63: UserWarning: Unable to import Axes3D. This may be due to multiple versions of Matplotlib being installed (e.g. as a system package and as a pip package). As a result, the 3D projection is not available.\n",
      "  warnings.warn(\"Unable to import Axes3D. This may be due to multiple versions of \"\n"
     ]
    }
   ],
   "source": [
    "import bin.accretion_definitions as defs\n",
    "import numpy as np\n",
    "import bin.utils as utils"
   ]
  },
  {
   "cell_type": "code",
   "execution_count": 5,
   "metadata": {},
   "outputs": [],
   "source": [
    "M = 1e6 * defs.Msun\n",
    "q = 0.9\n",
    "lambda_tot = 0.1\n",
    "sep = 100 * defs.grav_radius(M)\n",
    "i = 30 * np.pi/180\n",
    "a = [0.99, 0.99]\n",
    "h = [10, 10] #rg\n",
    "f = 0 * np.pi/180"
   ]
  },
  {
   "cell_type": "code",
   "execution_count": 6,
   "metadata": {},
   "outputs": [],
   "source": [
    "m1,m2,_,_,_, lambda_1, _, lambda_2 = defs.get_all_mdot(lambda_tot,q,M)\n",
    "v1, v2 = defs.velocities(M,sep,q)\n",
    "z1, z2 = defs.redshift(v1, phase=f, incl=i), defs.redshift(v2, phase=f, incl=i)"
   ]
  },
  {
   "cell_type": "code",
   "execution_count": 8,
   "metadata": {},
   "outputs": [
    {
     "data": {
      "text/plain": [
       "['1.05e+36', '9.42e+35']"
      ]
     },
     "execution_count": 8,
     "metadata": {},
     "output_type": "execute_result"
    }
   ],
   "source": [
    "str_m = utils.print_([m1,m2], to='exp')\n",
    "str_v = utils.print_([v1/defs.c,v2/defs.c], to='percent')\n",
    "\n"
   ]
  },
  {
   "cell_type": "code",
   "execution_count": null,
   "metadata": {},
   "outputs": [],
   "source": []
  }
 ],
 "metadata": {
  "kernelspec": {
   "display_name": "Python 3",
   "language": "python",
   "name": "python3"
  },
  "language_info": {
   "codemirror_mode": {
    "name": "ipython",
    "version": 3
   },
   "file_extension": ".py",
   "mimetype": "text/x-python",
   "name": "python",
   "nbconvert_exporter": "python",
   "pygments_lexer": "ipython3",
   "version": "3.10.12"
  }
 },
 "nbformat": 4,
 "nbformat_minor": 2
}
