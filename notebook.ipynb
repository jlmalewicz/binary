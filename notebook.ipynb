{
 "cells": [
  {
   "cell_type": "code",
   "execution_count": 1,
   "metadata": {},
   "outputs": [
    {
     "name": "stderr",
     "output_type": "stream",
     "text": [
      "/home/jlm/.local/lib/python3.10/site-packages/matplotlib/projections/__init__.py:63: UserWarning: Unable to import Axes3D. This may be due to multiple versions of Matplotlib being installed (e.g. as a system package and as a pip package). As a result, the 3D projection is not available.\n",
      "  warnings.warn(\"Unable to import Axes3D. This may be due to multiple versions of \"\n"
     ]
    }
   ],
   "source": [
    "import bin.accretion_definitions as defs\n",
    "import numpy as np\n",
    "import bin.utils as utils\n",
    "from IPython.display import Math\n",
    "import matplotlib.pyplot as plt"
   ]
  },
  {
   "cell_type": "code",
   "execution_count": 2,
   "metadata": {},
   "outputs": [],
   "source": [
    "M = 1e6 * defs.Msun \n",
    "q = 0.9\n",
    "lambda_tot = 0.1\n",
    "sep = 100 * defs.grav_radius(M)\n",
    "i = 30 * np.pi/180\n",
    "a = [0.99, 0.99]\n",
    "h = [10, 10] #rg\n",
    "f = 0 * np.pi/180"
   ]
  },
  {
   "cell_type": "code",
   "execution_count": 7,
   "metadata": {},
   "outputs": [],
   "source": [
    "class Binary(object):\n",
    "    def __init__(self, Mass, mass_ratio, lambda_tot, separation, inclination, spin, coronal_height, phase, redshift):\n",
    "        self.M = Mass\n",
    "        self.q = mass_ratio\n",
    "        self.lambda_tot = lambda_tot\n",
    "\n",
    "        self.sep = separation * defs.grav_radius(self.M)\n",
    "        self.i   = inclination\n",
    "        self.a   = spin\n",
    "        self.h   = coronal_height\n",
    "        self.f   = phase\n",
    "\n",
    "        self.z   = redshift\n",
    "\n",
    "    def calculate(self):\n",
    "        \n",
    "        self.m1,self.m2,_,_,_, self.lambda_1, _, self.lambda_2 = defs.get_all_mdot(self.lambda_tot,self.q,self.M)\n",
    "\n",
    "        rin1, rin2   = defs.rms_real_units(self.a[0], self.m1), defs.rms_real_units(self.a[1], self.m2)\n",
    "        rg1, rg2     = defs.grav_radius(self.m1), defs.grav_radius(self.m2)\n",
    "        rout1, rout2 = defs.truncated_rout(self.sep, self.q)\n",
    "\n",
    "        self.rin  = [rin1, rin2]\n",
    "        self.rg   = [rg1, rg2]\n",
    "        self.rout = [rout1, rout2]        \n",
    "\n",
    "        print(\"Computing orbit...\")\n",
    "\n",
    "        v1, v2 = defs.velocities(self.M,self.sep,self.q)\n",
    "        self.v = [v1, v2]\n",
    "        z1, z2 = defs.orbital_redshift(v1, phase=self.f, incl=self.i), defs.orbital_redshift(v2, phase=self.f, incl=self.i)\n",
    "        self.z_orb = [z1, z2]\n",
    "\n",
    "        print(\"Now computing ionization...\")\n",
    "\n",
    "        xi_1 = defs.get_xi(self.h[0],self.a[0],loglambda_edd=np.log10(self.lambda_1), relxill_bound=False )\n",
    "        xi_2 = defs.get_xi(self.h[1],self.a[1],loglambda_edd=np.log10(self.lambda_2), relxill_bound=False )\n",
    "        self.xi = [xi_1, xi_2]\n",
    "\n",
    "        print(\"Now computing Luminosity and Flux...\")\n",
    "\n",
    "        self.dL = defs.luminosity_distance(self.z) * 3.09e22 #m/Mpc\n",
    "        L1 = defs.Eddington_luminosity(self.m1) * self.lambda_1\n",
    "        L2 = defs.Eddington_luminosity(self.m2) * self.lambda_2\n",
    "        self.L = [L1, L2]\n",
    "\n",
    "        Fx1 = defs.Xray_flux(m=self.m1, dL=self.dL, lambda_= self.lambda_1)\n",
    "        Fx2 = defs.Xray_flux(m=self.m2, dL=self.dL, lambda_= self.lambda_2)\n",
    "        self.Fx = [Fx1, Fx2]\n",
    "        # note that xspec cflux asks for log10(F)\n",
    "\n",
    "        print(\"All done calculating.\")\n",
    "        \n",
    "    \n",
    "    def print_mass(self): # type: ignore\n",
    "        display(Math('M'+  utils.print_to_latex(self.M/defs.Msun, unit='M_\\odot')))\n",
    "        display(Math('m_1'+utils.print_to_latex(self.m1/defs.Msun, unit='M_\\odot')))\n",
    "        display(Math('m_2'+utils.print_to_latex(self.m2/defs.Msun, unit='M_\\odot')))\n",
    "        return\n",
    "\n",
    "    def print_lambda_xi(self):\n",
    "        display(Math(r'\\lambda_{tot}'+r' = {:.2f}'.format(self.lambda_tot)))\n",
    "        display(Math(r'\\lambda_{1}'+r'\\; = {:.2f}'.format(self.lambda_1)))\n",
    "        display(Math(r'\\lambda_{2}'+r'\\; = {:.2f}'.format(self.lambda_2)))\n",
    "        display(Math(r'{\\rm log}_{10} \\; \\xi_1 \\;' + '= {:.2f}'.format(np.log10(self.xi[0]))))\n",
    "        display(Math(r'{\\rm log}_{10} \\; \\xi_2 \\;' + '= {:.2f}'.format(np.log10(self.xi[1]))))\n",
    "        return\n",
    "\n",
    "    def print_radii(self):\n",
    "        display(Math(r'r_{g(1)} \\; \\;'+ utils.print_to_latex(self.rg[0], unit=r'{\\rm km}')))\n",
    "        display(Math(r'r_{g(2)} \\; \\;'+ utils.print_to_latex(self.rg[1], unit=r'{\\rm km}')))\n",
    "        display(Math(r'r_{in(1)} \\;'+   utils.print_to_latex(self.rin[0]/self.rg[0], unit='r_g')+  utils.print_to_latex(self.rin[0], unit=r'{\\rm m}')))\n",
    "        display(Math(r'r_{in(2)} \\;'+   utils.print_to_latex(self.rin[1]/self.rg[1], unit='r_g')+  utils.print_to_latex(self.rin[1], unit=r'{\\rm m}')))\n",
    "        display(Math(r'r_{out(1)}'+     utils.print_to_latex(self.rout[0]/self.rg[0], unit='r_g')+ utils.print_to_latex(self.rout[0], unit=r'{\\rm m}')))\n",
    "        display(Math(r'r_{out(2)}'+     utils.print_to_latex(self.rout[1]/self.rg[1], unit='r_g')+ utils.print_to_latex(self.rout[1], unit=r'{\\rm m}')))\n",
    "        return\n",
    "\n",
    "    def print_orbit(self):\n",
    "        display(Math(r'v_{orb(1)} \\;' + utils.print_to_latex(self.v[0],unit='m/s') + r'= {:.2f}'.format(self.v[0]/defs.c * 100) + r'\\% {\\rm \\; of \\; c}'))\n",
    "        display(Math(r'v_{orb(2)} \\;' + utils.print_to_latex(self.v[1],unit='m/s') + r'= {:.2f}'.format(self.v[1]/defs.c * 100) + r'\\% {\\rm \\; of \\; c}'))\n",
    "        display(Math(r'z_{orb(1)} \\;'+r' = {:.5f}'.format(self.z_orb[0])))\n",
    "        display(Math(r'z_{orb(2)} \\;'+r' = {:.5f}'.format(self.z_orb[1])))\n",
    "        return\n",
    "    \n",
    "    def print_lumin(self):\n",
    "        display(Math(r'd_L \\;'+      utils.print_to_latex(self.dL/3.09e22, unit=r'{\\rm Mpc}') + utils.print_to_latex(self.dL, unit=r'{\\rm m}')))\n",
    "        display(Math(r'L_1 \\;' +     utils.print_to_latex(self.L[0], unit=r'{\\rm erg/s}')))\n",
    "        display(Math(r'L_2 \\;' +     utils.print_to_latex(self.L[1], unit=r'{\\rm erg/s}')))\n",
    "        display(Math(r'F_{x,1} \\;' + utils.print_to_latex(self.Fx[0], unit=r'{\\rm erg/s/cm^2}')+r', \\; {\\rm log_{10}} F_{x,1} \\;' + '= {:.2f}'.format(np.log10(self.Fx[0]))))\n",
    "        display(Math(r'F_{x,2} \\;' + utils.print_to_latex(self.Fx[1], unit=r'{\\rm erg/s/cm^2}')+r', \\; {\\rm log_{10}} F_{x,2} \\;' + '= {:.2f}'.format(np.log10(self.Fx[1]))))\n",
    "        return\n",
    "    \n",
    "    def print_all(self):\n",
    "        self.print_mass()\n",
    "        self.print_lambda_xi()\n",
    "        self.print_radii()\n",
    "        self.print_orbit()\n",
    "        self.print_lumin()\n",
    "\n",
    "        return"
   ]
  },
  {
   "cell_type": "code",
   "execution_count": 8,
   "metadata": {},
   "outputs": [
    {
     "name": "stdout",
     "output_type": "stream",
     "text": [
      "Computing orbit...\n",
      "Now computing ionization...\n",
      "Now computing Luminosity and Flux\n"
     ]
    },
    {
     "data": {
      "text/latex": [
       "$\\displaystyle M = 10^6 \\;M_\\odot$"
      ],
      "text/plain": [
       "<IPython.core.display.Math object>"
      ]
     },
     "metadata": {},
     "output_type": "display_data"
    },
    {
     "data": {
      "text/latex": [
       "$\\displaystyle m_1 = 5.26 \\cdot 10^5 \\;M_\\odot$"
      ],
      "text/plain": [
       "<IPython.core.display.Math object>"
      ]
     },
     "metadata": {},
     "output_type": "display_data"
    },
    {
     "data": {
      "text/latex": [
       "$\\displaystyle m_2 = 4.74 \\cdot 10^5 \\;M_\\odot$"
      ],
      "text/plain": [
       "<IPython.core.display.Math object>"
      ]
     },
     "metadata": {},
     "output_type": "display_data"
    },
    {
     "data": {
      "text/latex": [
       "$\\displaystyle \\lambda_{tot} = 0.10$"
      ],
      "text/plain": [
       "<IPython.core.display.Math object>"
      ]
     },
     "metadata": {},
     "output_type": "display_data"
    },
    {
     "data": {
      "text/latex": [
       "$\\displaystyle \\lambda_{1}\\; = 0.09$"
      ],
      "text/plain": [
       "<IPython.core.display.Math object>"
      ]
     },
     "metadata": {},
     "output_type": "display_data"
    },
    {
     "data": {
      "text/latex": [
       "$\\displaystyle \\lambda_{2}\\; = 0.11$"
      ],
      "text/plain": [
       "<IPython.core.display.Math object>"
      ]
     },
     "metadata": {},
     "output_type": "display_data"
    },
    {
     "data": {
      "text/latex": [
       "$\\displaystyle {\\rm log}_{10} \\; \\xi_1 \\;= 2.64$"
      ],
      "text/plain": [
       "<IPython.core.display.Math object>"
      ]
     },
     "metadata": {},
     "output_type": "display_data"
    },
    {
     "data": {
      "text/latex": [
       "$\\displaystyle {\\rm log}_{10} \\; \\xi_2 \\;= 2.81$"
      ],
      "text/plain": [
       "<IPython.core.display.Math object>"
      ]
     },
     "metadata": {},
     "output_type": "display_data"
    },
    {
     "data": {
      "text/latex": [
       "$\\displaystyle r_{g(1)} \\; \\; = 7.77 \\cdot 10^8 \\;{\\rm km}$"
      ],
      "text/plain": [
       "<IPython.core.display.Math object>"
      ]
     },
     "metadata": {},
     "output_type": "display_data"
    },
    {
     "data": {
      "text/latex": [
       "$\\displaystyle r_{g(2)} \\; \\; = 6.99 \\cdot 10^8 \\;{\\rm km}$"
      ],
      "text/plain": [
       "<IPython.core.display.Math object>"
      ]
     },
     "metadata": {},
     "output_type": "display_data"
    },
    {
     "data": {
      "text/latex": [
       "$\\displaystyle r_{in(1)} \\; = 1.45 \\;r_g = 1.13 \\cdot 10^9 \\;{\\rm m}$"
      ],
      "text/plain": [
       "<IPython.core.display.Math object>"
      ]
     },
     "metadata": {},
     "output_type": "display_data"
    },
    {
     "data": {
      "text/latex": [
       "$\\displaystyle r_{in(2)} \\; = 1.45 \\;r_g = 1.02 \\cdot 10^9 \\;{\\rm m}$"
      ],
      "text/plain": [
       "<IPython.core.display.Math object>"
      ]
     },
     "metadata": {},
     "output_type": "display_data"
    },
    {
     "data": {
      "text/latex": [
       "$\\displaystyle r_{out(1)} = 51.29 \\;r_g = 3.98\\cdot 10^{10} \\;{\\rm m}$"
      ],
      "text/plain": [
       "<IPython.core.display.Math object>"
      ]
     },
     "metadata": {},
     "output_type": "display_data"
    },
    {
     "data": {
      "text/latex": [
       "$\\displaystyle r_{out(2)} = 54.31 \\;r_g = 3.80\\cdot 10^{10} \\;{\\rm m}$"
      ],
      "text/plain": [
       "<IPython.core.display.Math object>"
      ]
     },
     "metadata": {},
     "output_type": "display_data"
    },
    {
     "data": {
      "text/latex": [
       "$\\displaystyle v_{orb(1)} \\; = -1.42 \\cdot 10^7 \\;m/s= -4.74\\% {\\rm \\; of \\; c}$"
      ],
      "text/plain": [
       "<IPython.core.display.Math object>"
      ]
     },
     "metadata": {},
     "output_type": "display_data"
    },
    {
     "data": {
      "text/latex": [
       "$\\displaystyle v_{orb(2)} \\; = 1.58 \\cdot 10^7 \\;m/s= 5.26\\% {\\rm \\; of \\; c}$"
      ],
      "text/plain": [
       "<IPython.core.display.Math object>"
      ]
     },
     "metadata": {},
     "output_type": "display_data"
    },
    {
     "data": {
      "text/latex": [
       "$\\displaystyle z_{orb(1)} \\; = 0.02311$"
      ],
      "text/plain": [
       "<IPython.core.display.Math object>"
      ]
     },
     "metadata": {},
     "output_type": "display_data"
    },
    {
     "data": {
      "text/latex": [
       "$\\displaystyle z_{orb(2)} \\; = -0.02699$"
      ],
      "text/plain": [
       "<IPython.core.display.Math object>"
      ]
     },
     "metadata": {},
     "output_type": "display_data"
    },
    {
     "data": {
      "text/latex": [
       "$\\displaystyle d_L \\; = 460.30 \\;{\\rm Mpc} = 1.42\\cdot 10^{25} \\;{\\rm m}$"
      ],
      "text/plain": [
       "<IPython.core.display.Math object>"
      ]
     },
     "metadata": {},
     "output_type": "display_data"
    },
    {
     "data": {
      "text/latex": [
       "$\\displaystyle L_1 \\; = 6.25\\cdot 10^{42} \\;{\\rm erg/s}$"
      ],
      "text/plain": [
       "<IPython.core.display.Math object>"
      ]
     },
     "metadata": {},
     "output_type": "display_data"
    },
    {
     "data": {
      "text/latex": [
       "$\\displaystyle L_2 \\; = 6.35\\cdot 10^{42} \\;{\\rm erg/s}$"
      ],
      "text/plain": [
       "<IPython.core.display.Math object>"
      ]
     },
     "metadata": {},
     "output_type": "display_data"
    },
    {
     "data": {
      "text/latex": [
       "$\\displaystyle F_{x,1} \\; = 1.32\\cdot 10^{-14} \\;{\\rm erg/s/cm^2}, \\; {\\rm log_{10}} F_{x,1} \\;= -13.88$"
      ],
      "text/plain": [
       "<IPython.core.display.Math object>"
      ]
     },
     "metadata": {},
     "output_type": "display_data"
    },
    {
     "data": {
      "text/latex": [
       "$\\displaystyle F_{x,2} \\; = 1.29\\cdot 10^{-14} \\;{\\rm erg/s/cm^2}, \\; {\\rm log_{10}} F_{x,2} \\;= -13.89$"
      ],
      "text/plain": [
       "<IPython.core.display.Math object>"
      ]
     },
     "metadata": {},
     "output_type": "display_data"
    }
   ],
   "source": [
    "binary = Binary(Mass = 1e6 * defs.Msun, \n",
    "                mass_ratio = 0.9, \n",
    "                lambda_tot = 0.1,\n",
    "                separation = 100, \n",
    "                inclination = 30 * np.pi/180,\n",
    "                spin = [0.99, 0.99],\n",
    "                coronal_height = [10, 10], #rg\n",
    "                phase = 90 * np.pi/180,\n",
    "                redshift = 0.1)\n",
    "\n",
    "Binary.calculate(binary)\n",
    "Binary.print_all(binary)"
   ]
  },
  {
   "cell_type": "code",
   "execution_count": 16,
   "metadata": {},
   "outputs": [
    {
     "name": "stdout",
     "output_type": "stream",
     "text": [
      "Computing orbit...\n",
      "Now computing ionization...\n",
      "Now computing Luminosity and Flux\n",
      "Computing orbit...\n",
      "Now computing ionization...\n",
      "Now computing Luminosity and Flux\n"
     ]
    }
   ],
   "source": [
    "binary_6 = Binary(Mass = 1e6 * defs.Msun, \n",
    "                  mass_ratio = 0.9, \n",
    "                  lambda_tot = 0.1,\n",
    "                  separation = 100, \n",
    "                  inclination = 30 * np.pi/180,\n",
    "                  spin = [0.99, 0.99],\n",
    "                  coronal_height = [10, 10], #rg\n",
    "                  phase = 90 * np.pi/180,\n",
    "                  redshift = 1.0)\n",
    "binary_9 = Binary(Mass = 1e9 * defs.Msun, \n",
    "                  mass_ratio = 0.9, \n",
    "                  lambda_tot = 0.1,\n",
    "                  separation = 100, \n",
    "                  inclination = 30 * np.pi/180,\n",
    "                  spin = [0.99, 0.99],\n",
    "                  coronal_height = [10, 10], #rg\n",
    "                  phase = 90 * np.pi/180,\n",
    "                  redshift = 1.0)\n",
    "Binary.calculate(binary_6)\n",
    "Binary.calculate(binary_9)"
   ]
  },
  {
   "cell_type": "code",
   "execution_count": 20,
   "metadata": {},
   "outputs": [
    {
     "name": "stdout",
     "output_type": "stream",
     "text": [
      "-13.20\n"
     ]
    }
   ],
   "source": [
    "flux10 = np.log10(binary_9.Fx[1])\n",
    "print('{:.2f}'.format(flux10))"
   ]
  },
  {
   "cell_type": "code",
   "execution_count": 29,
   "metadata": {},
   "outputs": [],
   "source": [
    "lambdas = np.logspace(-2,0)\n",
    "masses = np.logspace(5,10)\n",
    "lumins = np.logspace(6,14)\n",
    "\n",
    "\n",
    "bol_lambda = defs.bolometric_correction(func='eddratio',value=lambdas)\n",
    "bol_masses = defs.bolometric_correction(func='mass',value=masses)\n",
    "bol_lumins = defs.bolometric_correction(func='lumin',value=lumins)"
   ]
  },
  {
   "cell_type": "code",
   "execution_count": 30,
   "metadata": {},
   "outputs": [
    {
     "data": {
      "image/png": "[encoded data removed]",
      "text/plain": [
       "<Figure size 1200x400 with 3 Axes>"
      ]
     },
     "metadata": {},
     "output_type": "display_data"
    }
   ],
   "source": [
    "fig, [ax1,ax2,ax3] = plt.subplots(1, 3, sharey=True, figsize=(12,4))\n",
    "ax1.plot(lambdas,bol_lambda)\n",
    "ax2.plot(masses, bol_masses)\n",
    "ax3.plot(lumins, bol_lumins)\n",
    "ax2.set_xscale('log')\n",
    "ax1.set_xscale('log')\n",
    "ax3.set_xscale('log')\n",
    "ax1.set_xlabel('Eddington ratio')\n",
    "ax2.set_xlabel('BH mass (Msun)')\n",
    "ax3.set_xlabel('BH luminosity (Lsun)')\n",
    "ax1.set_ylabel('Bolometric correction')\n",
    "\n",
    "for xx in [0.05, 0.1, 0.5]:\n",
    "    yy = defs.bolometric_correction(func='eddratio',value=xx)\n",
    "    ax1.scatter(xx,yy, label = 'fx({:.2f})={:.3f}'.format(xx,yy))\n",
    "ax1.legend(loc='best')\n",
    "\n",
    "for xx in [1e6, 1e9]:\n",
    "    yy = defs.bolometric_correction(func='mass',value=xx)\n",
    "    ax2.scatter(xx,yy, label = 'fx({:.0e} Msun)={:.3f}'.format(xx,yy))\n",
    "ax2.legend(loc='best')\n",
    "\n",
    "plt.tight_layout()\n",
    "# iomization script uses eddington\n",
    "# Duras warns that other authors have found correlation between fx and lambda or M, though with huge scatter\n",
    "# not viable for lambda < 10^-2 because they have no sources in this regime -> our lowest is 5%"
   ]
  },
  {
   "cell_type": "code",
   "execution_count": null,
   "metadata": {},
   "outputs": [],
   "source": []
  },
  {
   "cell_type": "code",
   "execution_count": null,
   "metadata": {},
   "outputs": [
    {
     "data": {
      "text/latex": [
       "$\\displaystyle \\lambda_1=0.09 =>0.0548$"
      ],
      "text/plain": [
       "<IPython.core.display.Math object>"
      ]
     },
     "metadata": {},
     "output_type": "display_data"
    },
    {
     "data": {
      "text/latex": [
       "$\\displaystyle \\lambda_2=0.11 =>0.0509$"
      ],
      "text/plain": [
       "<IPython.core.display.Math object>"
      ]
     },
     "metadata": {},
     "output_type": "display_data"
    },
    {
     "data": {
      "text/latex": [
       "$\\displaystyle M=10^6 => m_1 = 5.26 \\cdot 10^5 =>0.0597$"
      ],
      "text/plain": [
       "<IPython.core.display.Math object>"
      ]
     },
     "metadata": {},
     "output_type": "display_data"
    },
    {
     "data": {
      "text/latex": [
       "$\\displaystyle M=10^6 => m_2 = 4.74 \\cdot 10^5 =>0.0597$"
      ],
      "text/plain": [
       "<IPython.core.display.Math object>"
      ]
     },
     "metadata": {},
     "output_type": "display_data"
    },
    {
     "data": {
      "text/latex": [
       "$\\displaystyle M=10^9 => m_1 = 5.26 \\cdot 10^8 =>0.0484$"
      ],
      "text/plain": [
       "<IPython.core.display.Math object>"
      ]
     },
     "metadata": {},
     "output_type": "display_data"
    },
    {
     "data": {
      "text/latex": [
       "$\\displaystyle M=10^9 => m_2 = 4.74 \\cdot 10^8 =>0.0496$"
      ],
      "text/plain": [
       "<IPython.core.display.Math object>"
      ]
     },
     "metadata": {},
     "output_type": "display_data"
    }
   ],
   "source": [
    "display(Math(r'\\lambda_1=0.09 =>'+'{:.4f}'.format(defs.bolometric_correction(func='eddratio',value=0.09))))\n",
    "display(Math(r'\\lambda_2=0.11 =>'+'{:.4f}'.format(defs.bolometric_correction(func='eddratio',value=0.11))))\n",
    "display(Math(r'M=10^6 => m_1 = 5.26 \\cdot 10^5 =>'+'{:.4f}'.format(defs.bolometric_correction(func='mass',value=5.26e5))))\n",
    "display(Math(r'M=10^6 => m_2 = 4.74 \\cdot 10^5 =>'+'{:.4f}'.format(defs.bolometric_correction(func='mass',value=4.74e5))))\n",
    "display(Math(r'M=10^9 => m_1 = 5.26 \\cdot 10^8 =>'+'{:.4f}'.format(defs.bolometric_correction(func='mass',value=5.26e8))))\n",
    "display(Math(r'M=10^9 => m_2 = 4.74 \\cdot 10^8 =>'+'{:.4f}'.format(defs.bolometric_correction(func='mass',value=4.74e8))))"
   ]
  },
  {
   "cell_type": "code",
   "execution_count": 2,
   "metadata": {},
   "outputs": [],
   "source": [
    "m1,m2,ltot,l1,l2 = defs.get_all_edd(fixed_lambda_tot=0.1,q=0.9,M=10**6 * defs.Msun)\n",
    "defs.Xray_flux(m=m1,dL=,lambda_=l1)"
   ]
  },
  {
   "cell_type": "code",
   "execution_count": null,
   "metadata": {},
   "outputs": [],
   "source": []
  },
  {
   "cell_type": "code",
   "execution_count": null,
   "metadata": {},
   "outputs": [],
   "source": []
  },
  {
   "cell_type": "code",
   "execution_count": null,
   "metadata": {},
   "outputs": [],
   "source": []
  },
  {
   "cell_type": "code",
   "execution_count": null,
   "metadata": {},
   "outputs": [],
   "source": []
  },
  {
   "cell_type": "code",
   "execution_count": null,
   "metadata": {},
   "outputs": [],
   "source": []
  },
  {
   "cell_type": "code",
   "execution_count": null,
   "metadata": {},
   "outputs": [],
   "source": []
  },
  {
   "cell_type": "code",
   "execution_count": null,
   "metadata": {},
   "outputs": [],
   "source": []
  },
  {
   "cell_type": "code",
   "execution_count": null,
   "metadata": {},
   "outputs": [],
   "source": []
  },
  {
   "cell_type": "code",
   "execution_count": null,
   "metadata": {},
   "outputs": [],
   "source": []
  }
 ],
 "metadata": {
  "kernelspec": {
   "display_name": "Python 3",
   "language": "python",
   "name": "python3"
  },
  "language_info": {
   "codemirror_mode": {
    "name": "ipython",
    "version": 3
   },
   "file_extension": ".py",
   "mimetype": "text/x-python",
   "name": "python",
   "nbconvert_exporter": "python",
   "pygments_lexer": "ipython3",
   "version": "3.10.12"
  }
 },
 "nbformat": 4,
 "nbformat_minor": 2
}
